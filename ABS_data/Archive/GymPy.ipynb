{
 "cells": [
  {
   "cell_type": "markdown",
   "id": "0f9cf91e",
   "metadata": {},
   "source": [
    "# GymPy"
   ]
  },
  {
   "cell_type": "markdown",
   "id": "0fa30caf",
   "metadata": {},
   "source": [
    "Note:\n",
    "Keep an eye on your API usage. Use https://developers.google.com/maps/reporting/gmp-reporting as reference for how to monitor your usage and billing."
   ]
  },
  {
   "cell_type": "code",
   "execution_count": 1,
   "id": "34fe5280",
   "metadata": {},
   "outputs": [],
   "source": [
    "# Dependencies and Setup\n",
    "import matplotlib.pyplot as plt\n",
    "import pandas as pd\n",
    "import numpy as np\n",
    "import requests\n",
    "import gmaps\n",
    "import os\n",
    "import pprint as pprint\n",
    "\n",
    "# Import API key\n",
    "from api_keys import g_key"
   ]
  },
  {
   "cell_type": "code",
   "execution_count": 2,
   "id": "40404ec3",
   "metadata": {},
   "outputs": [],
   "source": [
    "# Part 1 data file\n",
    "master_data_path = \"Output/master_data.csv\"\n",
    "lat_lng_path1 = \"Resources/australian_postcodes_loc.csv\"\n",
    "lat_lng_path2 = \"Output/postcode_loc_df.csv\"\n",
    "\n",
    "# Read the metadata \n",
    "master_data_df = pd.read_csv(master_data_path)\n",
    "lat_lng_df1 = pd.read_csv(lat_lng_path1)\n",
    "#lat_lng_df2 = pd.read_csv(lat_lng_path2)"
   ]
  },
  {
   "cell_type": "code",
   "execution_count": 3,
   "id": "e0dc9309",
   "metadata": {},
   "outputs": [
    {
     "data": {
      "text/plain": [
       "(2641, 21)"
      ]
     },
     "execution_count": 3,
     "metadata": {},
     "output_type": "execute_result"
    }
   ],
   "source": [
    "master_data_df.shape"
   ]
  },
  {
   "cell_type": "code",
   "execution_count": 4,
   "id": "b98bc7c8",
   "metadata": {},
   "outputs": [
    {
     "data": {
      "text/plain": [
       "(18442, 8)"
      ]
     },
     "execution_count": 4,
     "metadata": {},
     "output_type": "execute_result"
    }
   ],
   "source": [
    "lat_lng_df1.shape"
   ]
  },
  {
   "cell_type": "code",
   "execution_count": 5,
   "id": "c1670186",
   "metadata": {
    "scrolled": true
   },
   "outputs": [
    {
     "data": {
      "text/plain": [
       "Index(['Postcode', 'House', 'Semi-detached', 'Apartment', 'Other dwelling',\n",
       "       'No bedrooms (studios, etc)', '1 bedroom', '2 bedrooms', '3 bedrooms',\n",
       "       '4 bedrooms', '5 bedrooms', '6 or more bedrooms',\n",
       "       'Couple with no children', 'Couple with children',\n",
       "       'One parent with children', 'Other family', 'Sole person household',\n",
       "       'Group household', 'People with Mental Health Conditions',\n",
       "       'Total People', 'State'],\n",
       "      dtype='object')"
      ]
     },
     "execution_count": 5,
     "metadata": {},
     "output_type": "execute_result"
    }
   ],
   "source": [
    "master_data_df.columns"
   ]
  },
  {
   "cell_type": "code",
   "execution_count": 6,
   "id": "c9628773",
   "metadata": {},
   "outputs": [
    {
     "data": {
      "text/plain": [
       "Index(['id', 'Postcodes', 'locality', 'state', 'lat', 'long', 'Lat_precise',\n",
       "       'Long_precise'],\n",
       "      dtype='object')"
      ]
     },
     "execution_count": 6,
     "metadata": {},
     "output_type": "execute_result"
    }
   ],
   "source": [
    "lat_lng_df1.columns"
   ]
  },
  {
   "cell_type": "code",
   "execution_count": 7,
   "id": "0b4bbb2c",
   "metadata": {},
   "outputs": [
    {
     "data": {
      "text/plain": [
       "Postcode                                 int64\n",
       "House                                    int64\n",
       "Semi-detached                            int64\n",
       "Apartment                                int64\n",
       "Other dwelling                           int64\n",
       "No bedrooms (studios, etc)               int64\n",
       "1 bedroom                                int64\n",
       "2 bedrooms                               int64\n",
       "3 bedrooms                               int64\n",
       "4 bedrooms                               int64\n",
       "5 bedrooms                               int64\n",
       "6 or more bedrooms                       int64\n",
       "Couple with no children                  int64\n",
       "Couple with children                     int64\n",
       "One parent with children                 int64\n",
       "Other family                             int64\n",
       "Sole person household                    int64\n",
       "Group household                          int64\n",
       "People with Mental Health Conditions     int64\n",
       "Total People                             int64\n",
       "State                                   object\n",
       "dtype: object"
      ]
     },
     "execution_count": 7,
     "metadata": {},
     "output_type": "execute_result"
    }
   ],
   "source": [
    "master_data_df.dtypes"
   ]
  },
  {
   "cell_type": "code",
   "execution_count": 8,
   "id": "c12c1077",
   "metadata": {},
   "outputs": [
    {
     "data": {
      "text/plain": [
       "id                int64\n",
       "Postcodes         int64\n",
       "locality         object\n",
       "state            object\n",
       "lat             float64\n",
       "long            float64\n",
       "Lat_precise     float64\n",
       "Long_precise    float64\n",
       "dtype: object"
      ]
     },
     "execution_count": 8,
     "metadata": {},
     "output_type": "execute_result"
    }
   ],
   "source": [
    "lat_lng_df1.dtypes"
   ]
  },
  {
   "cell_type": "code",
   "execution_count": null,
   "id": "3152f51b",
   "metadata": {},
   "outputs": [],
   "source": [
    "lat_lng_df1 = lat_lng_df1.drop_duplicates(subset=[\"Postcodes\"], keep='first')"
   ]
  },
  {
   "cell_type": "code",
   "execution_count": null,
   "id": "11fd3864",
   "metadata": {},
   "outputs": [],
   "source": [
    "lat_lng_df1.shape"
   ]
  },
  {
   "cell_type": "code",
   "execution_count": null,
   "id": "d2c7ca6c",
   "metadata": {},
   "outputs": [],
   "source": [
    "master_data_with_coords_df = pd.merge(master_data_df, lat_lng_df1, how=\"left\", left_on=[\"Postcode\"], right_on=[\"Postcodes\"])\n",
    "master_data_with_coords_df = master_data_with_coords_df.drop(\"Postcodes\",axis=1)\n",
    "master_data_with_coords_df.head()                                           "
   ]
  },
  {
   "cell_type": "code",
   "execution_count": null,
   "id": "b1ffb8d5",
   "metadata": {},
   "outputs": [],
   "source": [
    "master_data_with_coords_df = master_data_with_coords_df.drop('state', axis=1)\n",
    "master_data_with_coords_df = master_data_with_coords_df.rename(columns={\"State_x\": \"State\"})"
   ]
  },
  {
   "cell_type": "code",
   "execution_count": null,
   "id": "831f6fff",
   "metadata": {},
   "outputs": [],
   "source": [
    "master_data_with_coords_df.shape"
   ]
  },
  {
   "cell_type": "code",
   "execution_count": null,
   "id": "ea60ed61",
   "metadata": {},
   "outputs": [],
   "source": [
    "master_data_with_coords_df.head()"
   ]
  },
  {
   "cell_type": "code",
   "execution_count": null,
   "id": "39bbb404",
   "metadata": {},
   "outputs": [],
   "source": [
    "pop_greater_10000_coord_df = master_data_with_coords_df.loc[master_data_with_coords_df[\"Total People\"] >= 10000]"
   ]
  },
  {
   "cell_type": "code",
   "execution_count": null,
   "id": "b81f9c27",
   "metadata": {},
   "outputs": [],
   "source": [
    "pop_greater_10000_coord_df.shape"
   ]
  },
  {
   "cell_type": "code",
   "execution_count": null,
   "id": "75b2e6f8",
   "metadata": {},
   "outputs": [],
   "source": [
    "wa_pop_greater_10000_df = pop_greater_10000_coord_df.loc[pop_greater_10000_coord_df[\"State\"] == \"5: Western Australia\"]"
   ]
  },
  {
   "cell_type": "code",
   "execution_count": null,
   "id": "25ff830a",
   "metadata": {},
   "outputs": [],
   "source": [
    "wa_pop_greater_10000_df.shape"
   ]
  },
  {
   "cell_type": "code",
   "execution_count": null,
   "id": "3bd99bc3",
   "metadata": {},
   "outputs": [],
   "source": [
    "wa_pop_greater_10000_df[\"Mental Health Ratio\"]=wa_pop_greater_10000_df[\"People with Mental Health Conditions\"] / wa_pop_greater_10000_df[\"Total People\"]*100"
   ]
  },
  {
   "cell_type": "code",
   "execution_count": null,
   "id": "84b9fb80",
   "metadata": {},
   "outputs": [],
   "source": [
    "wa_pop_greater_10000_df.tail(20)"
   ]
  },
  {
   "cell_type": "code",
   "execution_count": null,
   "id": "3016f4b1",
   "metadata": {},
   "outputs": [],
   "source": [
    "# Store WA Postcode by WA greater than 10,000 population \n",
    "wa_pg10000_postcode = wa_pop_greater_10000_df[\"Postcode\"].astype(int)\n"
   ]
  },
  {
   "cell_type": "code",
   "execution_count": null,
   "id": "eb35d31a",
   "metadata": {},
   "outputs": [],
   "source": [
    "wa_pg10000_postcode"
   ]
  },
  {
   "cell_type": "code",
   "execution_count": null,
   "id": "2f142fa5",
   "metadata": {},
   "outputs": [],
   "source": [
    "wa_pg10000_locations1 = wa_pop_greater_10000_df[[\"lat\", \"long\"]].astype(float)"
   ]
  },
  {
   "cell_type": "code",
   "execution_count": null,
   "id": "cbac6d07",
   "metadata": {},
   "outputs": [],
   "source": [
    "wa_pg10000_locations1"
   ]
  },
  {
   "cell_type": "code",
   "execution_count": null,
   "id": "45381613",
   "metadata": {},
   "outputs": [],
   "source": [
    "#wa_pg10000_locations = wa_pop_greater_10000_df[[\"Latitude\", \"Longitude\"]].astype(float)"
   ]
  },
  {
   "cell_type": "code",
   "execution_count": null,
   "id": "47a9af32",
   "metadata": {},
   "outputs": [],
   "source": [
    "#wa_pg10000_locations"
   ]
  },
  {
   "cell_type": "code",
   "execution_count": null,
   "id": "9b7ea2c1",
   "metadata": {},
   "outputs": [],
   "source": [
    "# Access maps with unique API key\n",
    "gmaps.configure(api_key=g_key)"
   ]
  },
  {
   "cell_type": "code",
   "execution_count": null,
   "id": "3451597c",
   "metadata": {},
   "outputs": [],
   "source": [
    "#Figure(layout=FigureLayo# Customise the size of the figure\n",
    "figure_layout = {\n",
    "    'width': '400px',\n",
    "    'height': '300px',\n",
    "    'border': '1px solid black',\n",
    "    'padding': '1px',\n",
    "    'margin': '0 auto 0 auto'\n",
    "}\n",
    "\n",
    "fig = gmaps.figure(layout=figure_layout)"
   ]
  },
  {
   "cell_type": "code",
   "execution_count": null,
   "id": "8cbf2b0a",
   "metadata": {},
   "outputs": [],
   "source": [
    "# Convert Mental Health to float and store\n",
    "# HINT: be sure to handle NaN values\n",
    "\n",
    "loc_mental_health = wa_pop_greater_10000_df[\"Mental Health Ratio\"].astype(float)\n"
   ]
  },
  {
   "cell_type": "code",
   "execution_count": null,
   "id": "d3b57bda",
   "metadata": {},
   "outputs": [],
   "source": [
    "\n",
    "#Heatmap\n",
    "\n",
    "#marker_layer = gmaps.symbol_layer(wa_pg10000_locations)\n",
    "fig_mental_health = gmaps.figure(center = (-28, 132) ,zoom_level = 3.7)\n",
    "mental_health_layer = gmaps.heatmap_layer(wa_pg10000_locations1, weights=loc_mental_health, \n",
    "                                 dissipating=False, max_intensity=100,\n",
    "                                 point_radius = 0.5)\n",
    "fig_mental_health.add_layer(mental_health_layer)\n",
    "#fig_mental_health.add_layer(marker_layer)\n",
    "fig_mental_health\n"
   ]
  },
  {
   "cell_type": "code",
   "execution_count": null,
   "id": "717e5150",
   "metadata": {},
   "outputs": [],
   "source": [
    "# set up additional columns to hold information\n",
    "wa_pop_greater_10000_df['Gyms'] = \"\"\n",
    "gyms_df = wa_pop_greater_10000_df.reset_index(drop=True)\n",
    "gyms_df.head(20)"
   ]
  },
  {
   "cell_type": "code",
   "execution_count": null,
   "id": "0344500e",
   "metadata": {},
   "outputs": [],
   "source": [
    "# Testing Autocomplete\n",
    "\n",
    "# Set the hotel search radius\n",
    "\n",
    "search_type = \"gym\"\n",
    "search_radius = 10000\n",
    "\n",
    "search_loc = \"\" \n",
    "\n",
    "count = 0\n",
    "\n",
    "params = {\n",
    "    \"types\": search_type,\n",
    "    \"radius\": search_radius,\n",
    "    \"key\": g_key,\n",
    "    \"postal_code\":  \n",
    "}\n",
    "\n",
    "# use iterrows to iterate through pandas dataframe\n",
    "for index, row in wa_pop_greater_10000_df.iterrows():\n",
    "    # get location from df\n",
    "    search_postcode = row['Postcode']\n",
    " \n",
    "    # get lat, lng from df\n",
    "    lat = row[\"Latitude\"]\n",
    "    lng = row[\"Longitude\"]\n",
    "    \n",
    "    count=count+1\n",
    "    \n",
    "    #change location each iteration while leaving original params in place\n",
    "    #params[\"location\"] = f\"{lat},{lng}\"\n",
    "    \n",
    "    search_loc = f\"{lat},{lng}\"\n",
    "    params[\"location\"] = search_loc\n",
    "    base_url = \"https://maps.googleapis.com/maps/api/place/nearbysearch/json\" #moved\n",
    "    search_result = requests.get(base_url, params=params)\n",
    "    gym_name = search_result.json()\n",
    "    \n",
    "    #Store the first hotel in dataframe\n",
    "    \n",
    "    try:\n",
    "    # Print the name and address of the first hotel to appear\n",
    "        print(f\"{count} - A Gym in {search_postcode} to try is {gym_name['results'][0]['name']}.\")\n",
    "        wa_pop_greater_10000_df.loc[index, \"Gym\"] = gym_name[\"results\"][0][\"name\"]\n",
    "        \n",
    "    except (KeyError, IndexError):\n",
    "        wa_pop_greater_10000_df.loc[index, \"Gym\"] = \"N/A\"\n",
    "        print(\"No results... skipping.\")\n",
    "        \n",
    "    #print(\"----------------------------\")"
   ]
  },
  {
   "cell_type": "code",
   "execution_count": null,
   "id": "8d701070",
   "metadata": {},
   "outputs": [],
   "source": [
    "# Set the hotel search radius\n",
    "\n",
    "search_type = \"gym\"\n",
    "search_radius = 10000\n",
    "\n",
    "search_loc = \"\" \n",
    "\n",
    "count = 0\n",
    "\n",
    "params = {\n",
    "    \"types\": search_type,\n",
    "    \"radius\": search_radius,\n",
    "    \"key\": g_key,\n",
    "}\n",
    "\n",
    "# use iterrows to iterate through pandas dataframe\n",
    "for index, row in wa_pop_greater_10000_df.iterrows():\n",
    "    # get location from df\n",
    "    search_postcode = row['Postcode']\n",
    " \n",
    "    # get lat, lng from df\n",
    "    lat = row[\"Latitude\"]\n",
    "    lng = row[\"Longitude\"]\n",
    "    \n",
    "    count=count+1\n",
    "    \n",
    "    #change location each iteration while leaving original params in place\n",
    "    #params[\"location\"] = f\"{lat},{lng}\"\n",
    "    \n",
    "    search_loc = f\"{lat},{lng}\"\n",
    "    params[\"location\"] = search_loc\n",
    "    base_url = \"https://maps.googleapis.com/maps/api/place/nearbysearch/json\" #moved\n",
    "    search_result = requests.get(base_url, params=params)\n",
    "    gym_name = search_result.json()\n",
    "    \n",
    "    #Store the first hotel in dataframe\n",
    "    \n",
    "    try:\n",
    "    # Print the name and address of the first hotel to appear\n",
    "        print(f\"{count} - A Gym in {search_postcode} to try is {gym_name['results'][0]['name']}.\")\n",
    "        wa_pop_greater_10000_df.loc[index, \"Gym\"] = gym_name[\"results\"][0][\"name\"]\n",
    "        \n",
    "    except (KeyError, IndexError):\n",
    "        wa_pop_greater_10000_df.loc[index, \"Gym\"] = \"N/A\"\n",
    "        print(\"No results... skipping.\")\n",
    "        \n",
    "    #print(\"----------------------------\")"
   ]
  },
  {
   "cell_type": "code",
   "execution_count": null,
   "id": "e3cf4113",
   "metadata": {},
   "outputs": [],
   "source": [
    "gym_name[\"results\"]"
   ]
  },
  {
   "cell_type": "code",
   "execution_count": null,
   "id": "9306a92f",
   "metadata": {},
   "outputs": [],
   "source": []
  }
 ],
 "metadata": {
  "kernelspec": {
   "display_name": "Python 3 (ipykernel)",
   "language": "python",
   "name": "python3"
  },
  "language_info": {
   "codemirror_mode": {
    "name": "ipython",
    "version": 3
   },
   "file_extension": ".py",
   "mimetype": "text/x-python",
   "name": "python",
   "nbconvert_exporter": "python",
   "pygments_lexer": "ipython3",
   "version": "3.7.7"
  }
 },
 "nbformat": 4,
 "nbformat_minor": 5
}
