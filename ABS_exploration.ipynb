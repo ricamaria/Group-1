{
 "cells": [
  {
   "cell_type": "code",
   "execution_count": 1,
   "metadata": {},
   "outputs": [],
   "source": [
    "# Dependencies and Setup\n",
    "import matplotlib.pyplot as plt\n",
    "import pandas as pd\n",
    "import numpy as np\n",
    "import requests\n",
    "import gmaps\n",
    "import json\n",
    "import os\n"
   ]
  },
  {
   "cell_type": "code",
   "execution_count": null,
   "metadata": {},
   "outputs": [],
   "source": [
    "#url = \"https://api.data.abs.gov.au/data/\"\n",
    "\n",
    "\n",
    "\n",
    "\n"
   ]
  },
  {
   "cell_type": "markdown",
   "metadata": {},
   "source": [
    "# ABS Code\n",
    "\n",
    "Whether has mental health condition (including depression or anxiety) (HMHCP)  \n",
    "Code\tCategory\n",
    "091\tHas a mental health condition (including depression or anxiety)\n",
    "092\tDoes not have a mental health condition (including depression or anxiety)\n",
    "&&&\tNot stated\n",
    "VVV\tOverseas visitor  \n",
    "  \n",
    "Number of bedrooms in private dwelling (BEDD)  \n",
    "Code\tCategory\n",
    "00\tNone (includes studio apartments or bedsitters)\n",
    "01-29\t1 to 29 bedrooms singly\n",
    "30\t30 or more bedrooms\n",
    "&&\tNot stated\n",
    "@@\tNot applicable  \n",
    "  \n",
    "Number of bedrooms in private dwelling (ranges) (BEDRD)  \n",
    "Code\tCategory\n",
    "0\tNone (includes studio apartments or bedsitters)\n",
    "1\tOne bedroom\n",
    "2\tTwo bedrooms\n",
    "3\tThree bedrooms\n",
    "4\tFour bedrooms\n",
    "5\tFive bedrooms\n",
    "6\tSix bedrooms or more\n",
    "&\tNot stated\n",
    "@\tNot applicable  \n",
    "  \n",
    "Dwelling structure (STRD)  \n",
    "Code\tCategory\n",
    "11\tSeparate house\n",
    "21\tSemi-detached, row or terrace house, townhouse etc. with one storey\n",
    "22\tSemi-detached, row or terrace house, townhouse etc. with two or more storeys\n",
    "31\tFlat or apartment in a one or two storey block\n",
    "32\tFlat or apartment in a three storey block\n",
    "33\tFlat or apartment in a four to eight storey block\n",
    "34\tFlat or apartment in a nine or more storey block\n",
    "35\tFlat or apartment attached to a house\n",
    "91\tCaravan\n",
    "92\tCabin, houseboat\n",
    "93\tImprovised home, tent, sleepers out\n",
    "94\tHouse or flat attached to a shop, office, etc.\n",
    "&&\tNot stated\n",
    "@@\tNot applicable  \n",
    "  \n",
    "Housing suitability (HOSD)  \n",
    "Code\tCategory\n",
    "01\tFour or more extra bedrooms needed\n",
    "02\tThree extra bedrooms needed\n",
    "03\tTwo extra bedrooms needed\n",
    "04\tOne extra bedroom needed\n",
    "05\tNo bedrooms needed or spare\n",
    "06\tOne bedroom spare\n",
    "07\tTwo bedrooms spare\n",
    "08\tThree bedrooms spare\n",
    "09\tFour or more bedrooms spare\n",
    "10\tUnable to determine\n",
    "&&\tNot stated\n",
    "@@\tNot applicable  \n",
    "\n",
    "\n",
    "\n",
    "\n",
    "\n",
    "\n"
   ]
  },
  {
   "cell_type": "markdown",
   "metadata": {},
   "source": []
  }
 ],
 "metadata": {
  "kernelspec": {
   "display_name": "Python 3.7.7 ('PythonData')",
   "language": "python",
   "name": "python3"
  },
  "language_info": {
   "codemirror_mode": {
    "name": "ipython",
    "version": 3
   },
   "file_extension": ".py",
   "mimetype": "text/x-python",
   "name": "python",
   "nbconvert_exporter": "python",
   "pygments_lexer": "ipython3",
   "version": "3.7.7"
  },
  "orig_nbformat": 4,
  "vscode": {
   "interpreter": {
    "hash": "5ab4271f17fb678f92d8863922ba38472c07151a138a8513aae8a62841bcc2ec"
   }
  }
 },
 "nbformat": 4,
 "nbformat_minor": 2
}
